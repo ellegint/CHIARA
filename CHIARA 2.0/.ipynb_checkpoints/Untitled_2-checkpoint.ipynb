{
 "cells": [
  {
   "cell_type": "code",
   "execution_count": 1,
   "metadata": {},
   "outputs": [],
   "source": [
    "import os\n",
    "import subprocess as sp\n",
    "import numpy, scipy, matplotlib.pyplot as plt, IPython.display as ipd\n",
    "import librosa, librosa.display\n",
    "from pydub import AudioSegment\n",
    "from pydub.utils import make_chunks\n",
    "import numpy as np\n",
    "\n",
    "#Conversione MP3 -> WAV con ffmpeg\n",
    "#cmdffmpeg = \"./ffmpeg -i canzone3.mp3 -vn -acodec pcm_s16le -ac 1 -ar 44100 -f wav canzone3.wav\"\n",
    "#print(cmdffmpeg)\n",
    "#sp.call(cmdffmpeg) # Esegue il comando ffmpeg\n",
    "\n",
    "def Spezza(brano):\n",
    "    myaudio = AudioSegment.from_file(brano , \"wav\") \n",
    "    chunk_length_ms = 8000 # pydub calculates in millisec\n",
    "    chunks = make_chunks(myaudio, chunk_length_ms) #Make chunks of one sec\n",
    "\n",
    "    #Export all of the individual chunks as wav files\n",
    "\n",
    "    for i, chunk in enumerate(chunks):\n",
    "        chunk_name = \"chunk{0}.wav\".format(i)\n",
    "        print(\"exporting\", chunk_name)\n",
    "        chunk.export(chunk_name, format=\"wav\")\n",
    "    \n",
    "    return"
   ]
  },
  {
   "cell_type": "code",
   "execution_count": 243,
   "metadata": {
    "scrolled": false
   },
   "outputs": [
    {
     "data": {
      "text/plain": [
       "[Text(0.5, 1.0, 'Chromagram')]"
      ]
     },
     "execution_count": 243,
     "metadata": {},
     "output_type": "execute_result"
    },
    {
     "data": {
      "image/png": "[encoded data removed]",
      "text/plain": [
       "<Figure size 432x288 with 1 Axes>"
      ]
     },
     "metadata": {
      "needs_background": "light"
     },
     "output_type": "display_data"
    },
    {
     "data": {
      "image/png": "[encoded data removed]",
      "text/plain": [
       "<Figure size 1296x648 with 2 Axes>"
      ]
     },
     "metadata": {
      "needs_background": "light"
     },
     "output_type": "display_data"
    }
   ],
   "source": [
    "y, sr = librosa.load(\"B.wav\") #(\"nomeaudio.wav\", duration = x)\n",
    "\n",
    "# Grafico forma d'onda iniziale\n",
    "plt.figure()\n",
    "plt.grid(True)\n",
    "plt.plot(y)\n",
    "plt.xlabel(\"Time\")\n",
    "plt.ylabel(\"Intensity PCM 16bit\")\n",
    "plt.title(\"Initial waveform\")\n",
    "\n",
    "chroma = librosa.feature.chroma_stft(y=y, sr=sr)\n",
    "fig, ax = plt.subplots(figsize = (18,9))\n",
    "img = librosa.display.specshow(chroma, y_axis='chroma', x_axis='time', ax=ax, cmap = 'coolwarm')\n",
    "fig.colorbar(img, ax=ax)\n",
    "ax.set(title='Chromagram')"
   ]
  },
  {
   "cell_type": "code",
   "execution_count": 244,
   "metadata": {},
   "outputs": [
    {
     "name": "stdout",
     "output_type": "stream",
     "text": [
      "Do: 0.15432485827247952\n",
      "Do#: 0.008052336954398767\n",
      "Re: 0.02583381501877883\n",
      "Re#: 0.11389015539538284\n",
      "Mi: 0.03244155339538178\n",
      "Fa: 0.20259566625184725\n",
      "Fa#: 1.0\n",
      "Sol: 0.2539677884269646\n",
      "Sol#: 0.0\n",
      "La: 0.004149161395339163\n",
      "La#: 0.2022081034762945\n",
      "Si: 0.7563734105397045\n",
      "\n",
      "Fa#\n",
      "Si\n",
      "Sol\n",
      "Fa\n",
      "La#\n",
      "Do\n",
      "Re#\n",
      "Mi\n",
      "Re\n",
      "Do#\n",
      "La\n",
      "Sol#\n"
     ]
    }
   ],
   "source": [
    "vec = np.zeros(12)\n",
    "print \n",
    "for i in range(12):\n",
    "    vec[i] = sum(chroma[i])\n",
    "\n",
    "note = [\"Do\", \"Do#\", \"Re\", \"Re#\", \"Mi\", \"Fa\", \"Fa#\", \"Sol\", \"Sol#\", \"La\", \"La#\", \"Si\"]\n",
    "\n",
    "for i in range(12):\n",
    "    print(note[i] + \": \" + str((vec[i]-min(vec)) / (max(vec) - min(vec))))\n",
    "    \n",
    "a = np.argsort(vec)\n",
    "x = len(a)\n",
    "print(\"\")\n",
    "for i in range(12):\n",
    "    if (a[x-1] == 0):\n",
    "        print(\"Do\")\n",
    "    elif (a[x-1] == 1):\n",
    "        print(\"Do#\")\n",
    "    elif (a[x-1] == 2):\n",
    "        print(\"Re\")\n",
    "    elif (a[x-1] == 3):\n",
    "        print(\"Re#\")\n",
    "    elif (a[x-1] == 4):\n",
    "        print(\"Mi\")\n",
    "    elif (a[x-1] == 5):\n",
    "        print(\"Fa\")\n",
    "    elif (a[x-1] == 6):\n",
    "        print(\"Fa#\")\n",
    "    elif (a[x-1] == 7):\n",
    "        print(\"Sol\")\n",
    "    elif (a[x-1] == 8):\n",
    "        print(\"Sol#\")\n",
    "    elif (a[x-1] == 9):\n",
    "        print(\"La\")\n",
    "    elif (a[x-1] == 10):\n",
    "        print(\"La#\")\n",
    "    elif (a[x-1] == 11):\n",
    "        print(\"Si\")\n",
    "    x = x-1\n",
    "    "
   ]
  },
  {
   "cell_type": "code",
   "execution_count": 245,
   "metadata": {},
   "outputs": [],
   "source": [
    "CTT = []\n",
    "CTT.append([0, 4, 7])\n",
    "for i in range(1, 12):\n",
    "    a = 0\n",
    "    temp1 = CTT[i-1];\n",
    "    temp2 = []\n",
    "    for j in range(3):\n",
    "        a = (temp1[j] + 1) % 12\n",
    "        temp2.append(a)\n",
    "    CTT.append(temp2)\n",
    "CTT.append([0, 3, 7])\n",
    "for i in range(1,12):\n",
    "    a = 0\n",
    "    temp1 = CTT[i+11];\n",
    "    temp2 = []\n",
    "    for j in range(3):\n",
    "        a = (temp1[j] + 1) % 12\n",
    "        temp2.append(a)\n",
    "    CTT.append(temp2)"
   ]
  },
  {
   "cell_type": "code",
   "execution_count": 249,
   "metadata": {},
   "outputs": [],
   "source": [
    "def compute(p):\n",
    "    a = np.argsort(vec) #a contiene, in ordine crescente, le note della traccia\n",
    "    matches = [] #vettore per contare i match tra le componenti più forti della traccia e i CTT\n",
    "    conflitti = [] #vettore che contiene accordi per i quali il numero di match sono uguali\n",
    "    for i in range(24): #per tutti i CTT\n",
    "        count = 0;\n",
    "        for j in range(3): #per ogni tono che compone un accordo\n",
    "            for k in range(3+p): #per le prime 3+p componenti della traccia\n",
    "                if(CTT[i][j] == a[k+9-p]): #se una delle 3+p componenti più forti fa parte di un CTT\n",
    "                    count = count + 1 #aggiungo un'unità al contatore\n",
    "        matches.append(count) #aggiungo il numero totale di match di una nota nel vettore\n",
    "    print(\"Componenti:\", a)\n",
    "    print(\"Matches:\", matches)\n",
    "    for x in range(24):\n",
    "        if(matches[x] == 3): #se trovo un match con 3 note lo stampo ed esco\n",
    "            print(\"3/3 match trovati\")\n",
    "            print(\"Accordo trovato:\", x)\n",
    "            return\n",
    "        if (matches[x] == 2): #se trovo un match con 2 note lo aggiungo al vettore dei conflitti\n",
    "            conflitti.append(x)\n",
    "    if(len(conflitti) > 1): #nel caso in cui vi siano almeno 2 accordi con lo stesso numero di match\n",
    "        print(\"Trovati 2 o più accordi con stesso numero di matches\")\n",
    "        for i in range(len(conflitti)):\n",
    "            print(conflitti[i], \"->\", CTT[conflitti[i]])\n",
    "        subcompute(conflitti, a, 0)\n",
    "        return\n",
    "    elif(len(conflitti) == 1): #nel caso in cui vi sia un solo accordo con 2 match lo stampo ed esco\n",
    "        print(\"2/3 match trovati, unico\")\n",
    "        print(\"Accordo trovato:\", conflitti[0])\n",
    "        return\n",
    "    compute(p+1) #rieseguo la funzione prendendo in considerazione una componente in più"
   ]
  },
  {
   "cell_type": "code",
   "execution_count": 250,
   "metadata": {},
   "outputs": [],
   "source": [
    "def subcompute(con, A, x):\n",
    "    v = []\n",
    "    for i in range(len(con)):\n",
    "        count = 0\n",
    "        for j in range(3):\n",
    "            for k in range(3+x):\n",
    "                if(CTT[con[i]][j] == A[k+9-x]): \n",
    "                    count = count + 1\n",
    "        v.append(count) \n",
    "    for i in range(len(v)):\n",
    "        if(v[i] == 3):\n",
    "            print(\"Accordo trovato:\", con[i])\n",
    "            return con[i]\n",
    "    subcompute(con, A, x+1)"
   ]
  },
  {
   "cell_type": "code",
   "execution_count": 251,
   "metadata": {},
   "outputs": [
    {
     "name": "stdout",
     "output_type": "stream",
     "text": [
      "Componenti: [ 8  9  1  2  4  3  0 10  5  7 11  6]\n",
      "Matches: [1, 0, 1, 1, 1, 0, 1, 2, 0, 0, 0, 2, 1, 0, 0, 1, 2, 0, 1, 1, 1, 0, 0, 2]\n",
      "Trovati 2 o più accordi con stesso numero di matches\n",
      "7 -> [7, 11, 2]\n",
      "11 -> [11, 3, 6]\n",
      "16 -> [4, 7, 11]\n",
      "23 -> [11, 2, 6]\n",
      "Accordo trovato: 11\n"
     ]
    }
   ],
   "source": [
    "aiuto(0)"
   ]
  },
  {
   "cell_type": "code",
   "execution_count": null,
   "metadata": {},
   "outputs": [],
   "source": []
  }
 ],
 "metadata": {
  "kernelspec": {
   "display_name": "Python 3",
   "language": "python",
   "name": "python3"
  },
  "language_info": {
   "codemirror_mode": {
    "name": "ipython",
    "version": 3
   },
   "file_extension": ".py",
   "mimetype": "text/x-python",
   "name": "python",
   "nbconvert_exporter": "python",
   "pygments_lexer": "ipython3",
   "version": "3.8.3"
  }
 },
 "nbformat": 4,
 "nbformat_minor": 4
}
