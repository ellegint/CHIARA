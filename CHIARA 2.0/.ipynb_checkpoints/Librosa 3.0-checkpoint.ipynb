{
 "cells": [
  {
   "cell_type": "code",
   "execution_count": 1,
   "metadata": {},
   "outputs": [],
   "source": [
    "import os\n",
    "import subprocess as sp\n",
    "import numpy, scipy, matplotlib.pyplot as plt, IPython.display as ipd\n",
    "import librosa, librosa.display\n",
    "from pydub import AudioSegment\n",
    "from pydub.utils import make_chunks\n",
    "import numpy as np\n",
    "\n",
    "#Conversione MP3 -> WAV con ffmpeg\n",
    "#cmdffmpeg = \"./ffmpeg -i canzone3.mp3 -vn -acodec pcm_s16le -ac 1 -ar 44100 -f wav canzone3.wav\"\n",
    "#print(cmdffmpeg)\n",
    "#sp.call(cmdffmpeg) # Esegue il comando ffmpeg\n",
    "\n",
    "def Spezza(brano):\n",
    "    myaudio = AudioSegment.from_file(brano , \"wav\") \n",
    "    chunk_length_ms = 8000 # pydub calculates in millisec\n",
    "    chunks = make_chunks(myaudio, chunk_length_ms) #Make chunks of one sec\n",
    "\n",
    "    #Export all of the individual chunks as wav files\n",
    "\n",
    "    for i, chunk in enumerate(chunks):\n",
    "        chunk_name = \"chunk{0}.wav\".format(i)\n",
    "        print(\"exporting\", chunk_name)\n",
    "        chunk.export(chunk_name, format=\"wav\")\n",
    "    \n",
    "    return"
   ]
  },
  {
   "cell_type": "code",
   "execution_count": 2,
   "metadata": {
    "scrolled": false
   },
   "outputs": [
    {
     "data": {
      "text/plain": [
       "[Text(0.5, 1.0, 'Chromagram')]"
      ]
     },
     "execution_count": 2,
     "metadata": {},
     "output_type": "execute_result"
    },
    {
     "data": {
      "image/png": "[encoded data removed]",
      "text/plain": [
       "<Figure size 432x288 with 1 Axes>"
      ]
     },
     "metadata": {
      "needs_background": "light"
     },
     "output_type": "display_data"
    },
    {
     "data": {
      "image/png": "[encoded data removed]",
      "text/plain": [
       "<Figure size 1296x648 with 2 Axes>"
      ]
     },
     "metadata": {
      "needs_background": "light"
     },
     "output_type": "display_data"
    }
   ],
   "source": [
    "y, sr = librosa.load(\"Bm.wav\") #(\"nomeaudio.wav\", duration = x)\n",
    "\n",
    "# Grafico forma d'onda iniziale\n",
    "plt.figure()\n",
    "plt.grid(True)\n",
    "plt.plot(y)\n",
    "plt.xlabel(\"Time\")\n",
    "plt.ylabel(\"Intensity PCM 16bit\")\n",
    "plt.title(\"Initial waveform\")\n",
    "\n",
    "chroma = librosa.feature.chroma_stft(y=y, sr=sr)\n",
    "fig, ax = plt.subplots(figsize = (18,9))\n",
    "img = librosa.display.specshow(chroma, y_axis='chroma', x_axis='time', ax=ax, cmap = 'coolwarm')\n",
    "fig.colorbar(img, ax=ax)\n",
    "ax.set(title='Chromagram')"
   ]
  },
  {
   "cell_type": "code",
   "execution_count": 3,
   "metadata": {},
   "outputs": [
    {
     "name": "stdout",
     "output_type": "stream",
     "text": [
      "Do: 0.15000162411433304\n",
      "Do#: 0.17194426764697668\n",
      "Re: 0.7249318343349794\n",
      "Re#: 0.18482365586991262\n",
      "Mi: 0.0\n",
      "Fa: 0.19904659213784906\n",
      "Fa#: 1.0\n",
      "Sol: 0.25038786224744347\n",
      "Sol#: 0.001136790609340537\n",
      "La: 0.008649231453639463\n",
      "La#: 0.18334363431975018\n",
      "Si: 0.7322511304719753\n",
      "\n",
      "Fa#\n",
      "Si\n",
      "Re\n",
      "Sol\n",
      "Fa\n",
      "Re#\n",
      "La#\n",
      "Do#\n",
      "Do\n",
      "La\n",
      "Sol#\n",
      "Mi\n"
     ]
    }
   ],
   "source": [
    "vec = np.zeros(12)\n",
    "print \n",
    "for i in range(12):\n",
    "    vec[i] = sum(chroma[i])\n",
    "\n",
    "note = [\"Do\", \"Do#\", \"Re\", \"Re#\", \"Mi\", \"Fa\", \"Fa#\", \"Sol\", \"Sol#\", \"La\", \"La#\", \"Si\"]\n",
    "\n",
    "for i in range(12):\n",
    "    print(note[i] + \": \" + str((vec[i]-min(vec)) / (max(vec) - min(vec))))\n",
    "    \n",
    "a = np.argsort(vec)\n",
    "x = len(a)\n",
    "print(\"\")\n",
    "for i in range(12):\n",
    "    if (a[x-1] == 0):\n",
    "        print(\"Do\")\n",
    "    elif (a[x-1] == 1):\n",
    "        print(\"Do#\")\n",
    "    elif (a[x-1] == 2):\n",
    "        print(\"Re\")\n",
    "    elif (a[x-1] == 3):\n",
    "        print(\"Re#\")\n",
    "    elif (a[x-1] == 4):\n",
    "        print(\"Mi\")\n",
    "    elif (a[x-1] == 5):\n",
    "        print(\"Fa\")\n",
    "    elif (a[x-1] == 6):\n",
    "        print(\"Fa#\")\n",
    "    elif (a[x-1] == 7):\n",
    "        print(\"Sol\")\n",
    "    elif (a[x-1] == 8):\n",
    "        print(\"Sol#\")\n",
    "    elif (a[x-1] == 9):\n",
    "        print(\"La\")\n",
    "    elif (a[x-1] == 10):\n",
    "        print(\"La#\")\n",
    "    elif (a[x-1] == 11):\n",
    "        print(\"Si\")\n",
    "    x = x-1\n",
    "    "
   ]
  },
  {
   "cell_type": "code",
   "execution_count": 4,
   "metadata": {},
   "outputs": [],
   "source": [
    "# Creazione dei CTT\n",
    "\n",
    "CTT = []\n",
    "CTT.append([1, 0, 0, 0, 1, 0, 0, 1, 0, 0, 0, 0])\n",
    "for i in range(1, 12):\n",
    "    a = 0\n",
    "    temp1 = CTT[i-1];\n",
    "    temp2 = []\n",
    "    count = 0;\n",
    "    for j in range(12):\n",
    "        a = temp1[(j-1)%12]\n",
    "        temp2.append(a)\n",
    "        count+=1\n",
    "    CTT.append(temp2)\n",
    "\n",
    "CTT.append([1, 0, 0, 1, 0, 0, 0, 1, 0, 0, 0, 0])\n",
    "for i in range(1,12):\n",
    "    a = 0\n",
    "    temp1 = CTT[i+11];\n",
    "    temp2 = []\n",
    "    count = 0;\n",
    "    for j in range(12):\n",
    "        a = temp1[(j-1)%12]\n",
    "        temp2.append(a)\n",
    "        count+=1\n",
    "    CTT.append(temp2)\n",
    "#CTT"
   ]
  },
  {
   "cell_type": "code",
   "execution_count": 5,
   "metadata": {},
   "outputs": [],
   "source": [
    "def score_nn():\n",
    "    nn_vec = []\n",
    "    sum = 0;\n",
    "    for i in range(24):\n",
    "        for p in range(12):\n",
    "            sum += (CTT[i][p] - vec[p])**2\n",
    "        nn_vec.append(sum)\n",
    "        sum = 0\n",
    "    return nn_vec\n",
    "\n",
    "def score_ws():\n",
    "    ws_vec = []\n",
    "    sum = 0;\n",
    "    for i in range(24):\n",
    "        for p in range(12):\n",
    "            sum += (CTT[i][p] * vec[p])\n",
    "        ws_vec.append(sum)\n",
    "        sum = 0\n",
    "    return ws_vec"
   ]
  },
  {
   "cell_type": "code",
   "execution_count": 6,
   "metadata": {},
   "outputs": [],
   "source": [
    "nn_vec = score_nn()\n",
    "ws_vec = score_ws()"
   ]
  },
  {
   "cell_type": "code",
   "execution_count": 7,
   "metadata": {},
   "outputs": [],
   "source": [
    "note = [\"Do\", \"Do#\", \"Re\", \"Re#\", \"Mi\", \"Fa\", \"Fa#\", \"Sol\", \"Sol#\", \"La\", \"La#\", \"Si\", \n",
    "        \"Dom\", \"Do#m\", \"Rem\", \"Re#m\", \"Mim\", \"Fam\", \"Fa#m\", \"Solm\", \"Sol#m\", \"Lam\", \"La#m\", \"Sim\"]"
   ]
  },
  {
   "cell_type": "code",
   "execution_count": 8,
   "metadata": {},
   "outputs": [
    {
     "name": "stdout",
     "output_type": "stream",
     "text": [
      "Sim\n",
      "Sim\n"
     ]
    }
   ],
   "source": [
    "print(note[np.argsort(nn_vec)[0]])\n",
    "print(note[np.argsort(ws_vec)[23]])"
   ]
  },
  {
   "cell_type": "code",
   "execution_count": null,
   "metadata": {},
   "outputs": [],
   "source": []
  },
  {
   "cell_type": "code",
   "execution_count": null,
   "metadata": {},
   "outputs": [],
   "source": []
  }
 ],
 "metadata": {
  "kernelspec": {
   "display_name": "Python 3",
   "language": "python",
   "name": "python3"
  },
  "language_info": {
   "codemirror_mode": {
    "name": "ipython",
    "version": 3
   },
   "file_extension": ".py",
   "mimetype": "text/x-python",
   "name": "python",
   "nbconvert_exporter": "python",
   "pygments_lexer": "ipython3",
   "version": "3.8.3"
  }
 },
 "nbformat": 4,
 "nbformat_minor": 4
}
