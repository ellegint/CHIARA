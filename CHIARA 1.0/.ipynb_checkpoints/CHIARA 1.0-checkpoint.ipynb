{
 "cells": [
  {
   "cell_type": "code",
   "execution_count": 1,
   "metadata": {},
   "outputs": [],
   "source": [
    "import wave\n",
    "import numpy as np\n",
    "from scipy.io import wavfile\n",
    "import math\n",
    "import matplotlib.pyplot as plt \n",
    "#import subprocess as sp\n",
    "\n",
    "#Eventuale conversione MP3 -> WAV con ffmpeg\n",
    "#cmdffmpeg = \"./ffmpeg -i Piano2.mp3 -vn -acodec pcm_s16le -ac 1 -ar 44100 -f wav Piano2.wav\"\n",
    "#print(cmdffmpeg)\n",
    "#sp.call(cmdffmpeg) # Esegue il comando ffmpeg\n",
    "\n",
    "# Trasformazione del segnale WAV in Array di interi\n",
    "ifile = wave.open(\"Bm.wav\") #Per testare i vari samples cambiare la lettera iniziale con una dalla a alla g in entrambe le occorrenze\n",
    "samples = ifile.getnframes()\n",
    "audio = ifile.readframes(samples)\n",
    "data = np.frombuffer(audio, dtype=np.int16)\n",
    "datacomplex = data.astype(np.complex64)\n",
    "\n",
    "\n",
    "f_sr, x = wavfile.read(\"Bm.wav\") #Per testare i vari samples cambiare la lettera iniziale con una dalla a alla g in entrambe le occorrenze\n",
    "f_ref = 65.4"
   ]
  },
  {
   "cell_type": "code",
   "execution_count": 2,
   "metadata": {
    "scrolled": false
   },
   "outputs": [
    {
     "data": {
      "text/plain": [
       "Text(0.5, 1.0, 'Initial waveform')"
      ]
     },
     "execution_count": 2,
     "metadata": {},
     "output_type": "execute_result"
    },
    {
     "data": {
      "image/png": "[encoded data removed]",
      "text/plain": [
       "<Figure size 432x288 with 1 Axes>"
      ]
     },
     "metadata": {
      "needs_background": "light"
     },
     "output_type": "display_data"
    }
   ],
   "source": [
    "# Grafico forma d'onda iniziale\n",
    "plt.figure()\n",
    "plt.grid(True)\n",
    "plt.plot(data)\n",
    "plt.xlabel(\"Time\")\n",
    "plt.ylabel(\"Intensity PCM 16bit\")\n",
    "plt.title(\"Initial waveform\")"
   ]
  },
  {
   "cell_type": "code",
   "execution_count": 3,
   "metadata": {},
   "outputs": [],
   "source": [
    "# Formule per computare il cromagramma\n",
    "\n",
    "def p(k):\n",
    "    if(k == 0):\n",
    "        return -1\n",
    "    else:\n",
    "        return math.floor(12*math.log((k/N*f_sr/f_ref),2))%12\n",
    "\n",
    "def PCP(P):\n",
    "    sum = 0\n",
    "    for k in range(round(N/2)-1):\n",
    "        if(p(k) == P):\n",
    "            sum += abs(X[k])**2\n",
    "    return sum\n"
   ]
  },
  {
   "cell_type": "code",
   "execution_count": 4,
   "metadata": {},
   "outputs": [],
   "source": [
    "def stampa(vec):\n",
    "    a = np.argsort(vec)\n",
    "    print(\"\")\n",
    "    for i in range(12):\n",
    "        if (a[i] == 0):\n",
    "            print(\"Do\")\n",
    "        elif (a[i] == 1):\n",
    "            print(\"Do#\")\n",
    "        elif (a[i] == 2):\n",
    "            print(\"Re\")\n",
    "        elif (a[i] == 3):\n",
    "            print(\"Re#\")\n",
    "        elif (a[i] == 4):\n",
    "            print(\"Mi\")\n",
    "        elif (a[i] == 5):\n",
    "            print(\"Fa\")\n",
    "        elif (a[i] == 6):\n",
    "            print(\"Fa#\")\n",
    "        elif (a[i] == 7):\n",
    "            print(\"Sol\")\n",
    "        elif (a[i] == 8):\n",
    "            print(\"Sol#\")\n",
    "        elif (a[i] == 9):\n",
    "            print(\"La\")\n",
    "        elif (a[i] == 10):\n",
    "            print(\"La#\")\n",
    "        elif (a[i] == 11):\n",
    "            print(\"Si\")\n",
    "    print(\"\")"
   ]
  },
  {
   "cell_type": "code",
   "execution_count": 5,
   "metadata": {
    "scrolled": true
   },
   "outputs": [],
   "source": [
    "# Calcolo FFT\n",
    "\n",
    "X = np.fft.fft(data, 4096)\n",
    "N = len(X)\n",
    "fftabs = abs(X)\n",
    "freqs = np.fft.fftfreq(N)\n",
    "freqs = freqs*100000"
   ]
  },
  {
   "cell_type": "code",
   "execution_count": 6,
   "metadata": {},
   "outputs": [
    {
     "data": {
      "text/plain": [
       "Text(0.5, 1.0, 'FFT')"
      ]
     },
     "execution_count": 6,
     "metadata": {},
     "output_type": "execute_result"
    },
    {
     "data": {
      "image/png": "[encoded data removed]",
      "text/plain": [
       "<Figure size 432x288 with 1 Axes>"
      ]
     },
     "metadata": {
      "needs_background": "light"
     },
     "output_type": "display_data"
    }
   ],
   "source": [
    "# Grafico FFT\n",
    "\n",
    "plt.figure()\n",
    "plt.xlim( [10, f_sr/2.] )\n",
    "plt.grid( True )\n",
    "plt.xlabel( 'Frequency (Hz)' )\n",
    "plt.ylabel(\"Intensity\")\n",
    "plt.plot(freqs[:int(freqs.size/2.)],fftabs[:int(freqs.size/2.)])\n",
    "plt.title(\"FFT\")"
   ]
  },
  {
   "cell_type": "code",
   "execution_count": 7,
   "metadata": {
    "scrolled": false
   },
   "outputs": [],
   "source": [
    "# Creazione del PCP (o Cromagramma) 12-dimensionale\n",
    "\n",
    "chromagram = np.zeros(12)\n",
    "for i in range(12):\n",
    "    chromagram[i] = np.log(PCP(i))\n",
    "\n",
    "note = [\"Do\", \"Do#\", \"Re\", \"Re#\", \"Mi\", \"Fa\", \"Fa#\", \"Sol\", \"Sol#\", \"La\", \"La#\", \"Si\", \n",
    "        \"Dom\", \"Do#m\", \"Rem\", \"Re#m\", \"Mim\", \"Fam\", \"Fa#m\", \"Solm\", \"Sol#m\", \"Lam\", \"La#m\", \"Sim\"]\n",
    "    \n",
    "#for i in range(12):\n",
    "    #print(note[i] + \": \" + str((chromagram[i]-min(chromagram)) / (max(chromagram) - min(chromagram))))\n",
    "\n",
    "#stampa(chromagram)"
   ]
  },
  {
   "cell_type": "code",
   "execution_count": 8,
   "metadata": {
    "scrolled": false
   },
   "outputs": [],
   "source": [
    "# Creazione dei CTT\n",
    "\n",
    "CTT = []\n",
    "CTT.append([1, 0, 0, 0, 1, 0, 0, 1, 0, 0, 0, 0])\n",
    "for i in range(1, 12):\n",
    "    a = 0\n",
    "    temp1 = CTT[i-1];\n",
    "    temp2 = []\n",
    "    count = 0;\n",
    "    for j in range(12):\n",
    "        a = temp1[(j-1)%12]\n",
    "        temp2.append(a)\n",
    "        count+=1\n",
    "    CTT.append(temp2)\n",
    "\n",
    "CTT.append([1, 0, 0, 1, 0, 0, 0, 1, 0, 0, 0, 0])\n",
    "for i in range(1,12):\n",
    "    a = 0\n",
    "    temp1 = CTT[i+11];\n",
    "    temp2 = []\n",
    "    count = 0;\n",
    "    for j in range(12):\n",
    "        a = temp1[(j-1)%12]\n",
    "        temp2.append(a)\n",
    "        count+=1\n",
    "    CTT.append(temp2)\n",
    "#CTT"
   ]
  },
  {
   "cell_type": "code",
   "execution_count": 9,
   "metadata": {},
   "outputs": [],
   "source": [
    "# Funzioni punteggio\n",
    "\n",
    "def score_nn():\n",
    "    nn_vec = []\n",
    "    sum = 0;\n",
    "    for i in range(24):\n",
    "        for p in range(12):\n",
    "            sum += (CTT[i][p] - chromagram[p])**2\n",
    "        nn_vec.append(sum)\n",
    "        sum = 0\n",
    "    return nn_vec\n",
    "\n",
    "def score_ws():\n",
    "    ws_vec = []\n",
    "    sum = 0;\n",
    "    for i in range(24):\n",
    "        for p in range(12):\n",
    "            sum += (CTT[i][p] * chromagram[p])\n",
    "        ws_vec.append(sum)\n",
    "        sum = 0\n",
    "    return ws_vec"
   ]
  },
  {
   "cell_type": "code",
   "execution_count": 10,
   "metadata": {},
   "outputs": [],
   "source": [
    "nn_vec = score_nn()\n",
    "ws_vec = score_ws()"
   ]
  },
  {
   "cell_type": "code",
   "execution_count": 11,
   "metadata": {},
   "outputs": [],
   "source": [
    "#for i in range(24):\n",
    "    #print(note[i] + \": \" + str((nn_vec[i]-min(nn_vec)) / (max(nn_vec) - min(nn_vec))))\n",
    "#print(\"\")\n",
    "\n",
    "#for i in range(24):\n",
    "    #print(note[i] + \": \" + str((ws_vec[i]-min(ws_vec)) / (max(ws_vec) - min(ws_vec))))\n",
    "#print(\"\")"
   ]
  },
  {
   "cell_type": "code",
   "execution_count": 12,
   "metadata": {},
   "outputs": [
    {
     "name": "stdout",
     "output_type": "stream",
     "text": [
      "La#\n",
      "La#\n"
     ]
    }
   ],
   "source": [
    "print(note[np.argsort(nn_vec)[0]])\n",
    "print(note[np.argsort(ws_vec)[23]])"
   ]
  }
 ],
 "metadata": {
  "kernelspec": {
   "display_name": "Python 3",
   "language": "python",
   "name": "python3"
  },
  "language_info": {
   "codemirror_mode": {
    "name": "ipython",
    "version": 3
   },
   "file_extension": ".py",
   "mimetype": "text/x-python",
   "name": "python",
   "nbconvert_exporter": "python",
   "pygments_lexer": "ipython3",
   "version": "3.8.3"
  }
 },
 "nbformat": 4,
 "nbformat_minor": 4
}
