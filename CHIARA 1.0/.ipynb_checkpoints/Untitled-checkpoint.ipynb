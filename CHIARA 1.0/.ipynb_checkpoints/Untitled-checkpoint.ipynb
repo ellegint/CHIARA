{
 "cells": [
  {
   "cell_type": "code",
   "execution_count": 1,
   "metadata": {},
   "outputs": [
    {
     "name": "stdout",
     "output_type": "stream",
     "text": [
      "[0 0 0 ... 0 0 0]\n"
     ]
    }
   ],
   "source": [
    "import os\n",
    "import wave\n",
    "import numpy as np\n",
    "from scipy.io import wavfile\n",
    "import math\n",
    "import subprocess as sp\n",
    "from scipy.fftpack import fft,fftfreq\n",
    "import matplotlib.pyplot as plt \n",
    "\n",
    "#Conversione MP3 -> WAV con ffmpeg\n",
    "#cmdffmpeg = \"./ffmpeg -i f_sample.mp3 -vn -acodec pcm_s16le -ac 1 -ar 44100 -f wav f_sample.wav\"\n",
    "#print(cmdffmpeg)\n",
    "#sp.call(cmdffmpeg) # Esegue il comando ffmpeg\n",
    "\n",
    "# Trasformazione del segnale da WAV in Array di interi\n",
    "ifile = wave.open(\"b_sample.wav\")\n",
    "samples = ifile.getnframes()\n",
    "audio = ifile.readframes(samples)\n",
    "data = np.frombuffer(audio, dtype=np.int16)\n",
    "print(data)\n",
    "\n",
    "f_sr, x = wavfile.read(\"b_sample.wav\")\n",
    "N = 4096\n",
    "f_ref = 65.4"
   ]
  },
  {
   "cell_type": "code",
   "execution_count": 2,
   "metadata": {},
   "outputs": [
    {
     "data": {
      "text/plain": [
       "Text(0.5, 1.0, 'Initial waveform')"
      ]
     },
     "execution_count": 2,
     "metadata": {},
     "output_type": "execute_result"
    },
    {
     "data": {
      "image/png": "[encoded data removed]",
      "text/plain": [
       "<Figure size 432x288 with 1 Axes>"
      ]
     },
     "metadata": {
      "needs_background": "light"
     },
     "output_type": "display_data"
    }
   ],
   "source": [
    "# Grafico forma d'onda iniziale\n",
    "plt.figure()\n",
    "plt.grid(True)\n",
    "plt.plot(data)\n",
    "plt.xlabel(\"Time\")\n",
    "plt.ylabel(\"Intensity PCM 16bit\")\n",
    "plt.title(\"Initial waveform\")"
   ]
  },
  {
   "cell_type": "code",
   "execution_count": 3,
   "metadata": {},
   "outputs": [],
   "source": [
    "# Formule per computare il cromagramma\n",
    "\n",
    "#def dft(inputsignal,N):\n",
    "#    X = np.zeros(N, dtype=complex)\n",
    "#    for k in range(0, N-1):\n",
    "#        for n in range(0, N-1):\n",
    "#            X[k] = inputsignal[n] * (np.exp((-1j*2*np.pi*n*k)/N))\n",
    "#    return X\n",
    "\n",
    "def p(k):\n",
    "    if(k == 0):\n",
    "        return -1\n",
    "    else:\n",
    "        return math.floor(12*math.log((k/N*f_sr/f_ref),2))%12\n",
    "\n",
    "def PCP(P):\n",
    "    sum = 0\n",
    "    for k in range(round(N/2)-1):\n",
    "        if(p(k) == P):\n",
    "            sum += abs(X[k])**2\n",
    "    return sum"
   ]
  },
  {
   "cell_type": "code",
   "execution_count": 4,
   "metadata": {},
   "outputs": [],
   "source": [
    "# Calcolo FFT\n",
    "\n",
    "#X = dft(data, N) \n",
    "\n",
    "X = fft(data) # array con valori FFT\n",
    "fftabs = abs(X)\n",
    "freqs = fftfreq(data.shape[0],1./f_sr)"
   ]
  },
  {
   "cell_type": "code",
   "execution_count": 5,
   "metadata": {},
   "outputs": [
    {
     "data": {
      "text/plain": [
       "Text(0.5, 1.0, 'FFT')"
      ]
     },
     "execution_count": 5,
     "metadata": {},
     "output_type": "execute_result"
    },
    {
     "data": {
      "image/png": "[encoded data removed]",
      "text/plain": [
       "<Figure size 432x288 with 1 Axes>"
      ]
     },
     "metadata": {
      "needs_background": "light"
     },
     "output_type": "display_data"
    }
   ],
   "source": [
    "# Grafico FFT\n",
    "\n",
    "plt.figure()\n",
    "plt.xlim( [10, f_sr/2.] )\n",
    "#plt.xscale( 'log' )\n",
    "plt.grid( True )\n",
    "plt.xlabel( 'Frequency (Hz)' )\n",
    "plt.ylabel(\"Intensity\")\n",
    "plt.plot(freqs[:int(freqs.size/2.)],fftabs[:int(freqs.size/2.)])\n",
    "plt.title(\"FFT\")"
   ]
  },
  {
   "cell_type": "code",
   "execution_count": 6,
   "metadata": {},
   "outputs": [
    {
     "name": "stdout",
     "output_type": "stream",
     "text": [
      "[1.78275941e+15 7.14216051e+14 1.77303747e+16 1.36598039e+16\n",
      " 5.75001102e+14 2.78600930e+14 2.61416866e+14 2.24223466e+16\n",
      " 2.23505920e+16 6.35433678e+14 5.96368837e+14 1.35792154e+15]\n"
     ]
    }
   ],
   "source": [
    "# Creazione del PCP (o Cromagramma) 12-dimensionale\n",
    "\n",
    "Chromagram = np.zeros(12)\n",
    "for i in range(12):\n",
    "    Chromagram[i] = PCP(i)\n",
    "\n",
    "print(Chromagram)"
   ]
  },
  {
   "cell_type": "code",
   "execution_count": 7,
   "metadata": {},
   "outputs": [],
   "source": [
    "# Creazione dei CTT\n",
    "\n",
    "CTT = []\n",
    "CTT.append([1, 0, 0, 0, 1, 0, 0, 1, 0, 0, 0, 0])\n",
    "for i in range(1, 12):\n",
    "    a = 0\n",
    "    temp1 = CTT[i-1];\n",
    "    temp2 = []\n",
    "    count = 0;\n",
    "    for j in range(12):\n",
    "        a = temp1[(j-1)%12]\n",
    "        temp2.append(a)\n",
    "        count+=1\n",
    "    CTT.append(temp2)\n",
    "\n",
    "CTT.append([1, 0, 0, 1, 0, 0, 0, 1, 0, 0, 0, 0])\n",
    "for i in range(1,12):\n",
    "    a = 0\n",
    "    temp1 = CTT[i+11];\n",
    "    temp2 = []\n",
    "    count = 0;\n",
    "    for j in range(12):\n",
    "        a = temp1[(j-1)%12]\n",
    "        temp2.append(a)\n",
    "        count+=1\n",
    "    CTT.append(temp2)"
   ]
  },
  {
   "cell_type": "code",
   "execution_count": 8,
   "metadata": {},
   "outputs": [
    {
     "data": {
      "text/plain": [
       "[[1, 0, 0, 0, 1, 0, 0, 1, 0, 0, 0, 0],\n",
       " [0, 1, 0, 0, 0, 1, 0, 0, 1, 0, 0, 0],\n",
       " [0, 0, 1, 0, 0, 0, 1, 0, 0, 1, 0, 0],\n",
       " [0, 0, 0, 1, 0, 0, 0, 1, 0, 0, 1, 0],\n",
       " [0, 0, 0, 0, 1, 0, 0, 0, 1, 0, 0, 1],\n",
       " [1, 0, 0, 0, 0, 1, 0, 0, 0, 1, 0, 0],\n",
       " [0, 1, 0, 0, 0, 0, 1, 0, 0, 0, 1, 0],\n",
       " [0, 0, 1, 0, 0, 0, 0, 1, 0, 0, 0, 1],\n",
       " [1, 0, 0, 1, 0, 0, 0, 0, 1, 0, 0, 0],\n",
       " [0, 1, 0, 0, 1, 0, 0, 0, 0, 1, 0, 0],\n",
       " [0, 0, 1, 0, 0, 1, 0, 0, 0, 0, 1, 0],\n",
       " [0, 0, 0, 1, 0, 0, 1, 0, 0, 0, 0, 1],\n",
       " [1, 0, 0, 1, 0, 0, 0, 1, 0, 0, 0, 0],\n",
       " [0, 1, 0, 0, 1, 0, 0, 0, 1, 0, 0, 0],\n",
       " [0, 0, 1, 0, 0, 1, 0, 0, 0, 1, 0, 0],\n",
       " [0, 0, 0, 1, 0, 0, 1, 0, 0, 0, 1, 0],\n",
       " [0, 0, 0, 0, 1, 0, 0, 1, 0, 0, 0, 1],\n",
       " [1, 0, 0, 0, 0, 1, 0, 0, 1, 0, 0, 0],\n",
       " [0, 1, 0, 0, 0, 0, 1, 0, 0, 1, 0, 0],\n",
       " [0, 0, 1, 0, 0, 0, 0, 1, 0, 0, 1, 0],\n",
       " [0, 0, 0, 1, 0, 0, 0, 0, 1, 0, 0, 1],\n",
       " [1, 0, 0, 0, 1, 0, 0, 0, 0, 1, 0, 0],\n",
       " [0, 1, 0, 0, 0, 1, 0, 0, 0, 0, 1, 0],\n",
       " [0, 0, 1, 0, 0, 0, 1, 0, 0, 0, 0, 1]]"
      ]
     },
     "execution_count": 8,
     "metadata": {},
     "output_type": "execute_result"
    }
   ],
   "source": [
    "CTT"
   ]
  },
  {
   "cell_type": "code",
   "execution_count": 9,
   "metadata": {},
   "outputs": [],
   "source": [
    "# Funzioni punteggio\n",
    "\n",
    "def score_nn():\n",
    "    nn_vec = []\n",
    "    sum = 0;\n",
    "    for i in range(12):\n",
    "        for p in range(12):\n",
    "            #print(CTT[i][p])\n",
    "            #print(Chromagram[p])\n",
    "            sum += (CTT[i][p] - Chromagram[p])**2\n",
    "            #print(\"sum = \",sum)\n",
    "        nn_vec.append(sum)\n",
    "        sum = 0\n",
    "    return nn_vec\n",
    "\n",
    "def score_ws():\n",
    "    ws_vec = []\n",
    "    sum = 0;\n",
    "    for i in range(12):\n",
    "        for p in range(12):\n",
    "            #print(CTT[i][p])\n",
    "            #print(Chromagram[p])\n",
    "            sum += (CTT[i][p] * Chromagram[p])\n",
    "            #print(\"sum = \",sum)\n",
    "        ws_vec.append(sum)\n",
    "        sum = 0\n",
    "    return ws_vec"
   ]
  },
  {
   "cell_type": "code",
   "execution_count": 10,
   "metadata": {},
   "outputs": [],
   "source": [
    "#nn_vec = score_nn()\n",
    "ws_vec = score_ws()"
   ]
  },
  {
   "cell_type": "code",
   "execution_count": 11,
   "metadata": {},
   "outputs": [
    {
     "name": "stdout",
     "output_type": "stream",
     "text": [
      "[2.478010708395589e+16, 2.3343408966785564e+16, 1.8627225279512e+16, 3.6678519314605176e+16, 2.4283514622757004e+16, 2696794014179557.0, 1572001755092620.5, 4.151064284709024e+16, 3.779315529118865e+16, 1924650831267796.0, 1.8605344502563476e+16, 1.527914230261353e+16]\n"
     ]
    }
   ],
   "source": [
    "#print(nn_vec)\n",
    "print(ws_vec)"
   ]
  },
  {
   "cell_type": "code",
   "execution_count": 12,
   "metadata": {},
   "outputs": [
    {
     "data": {
      "text/plain": [
       "7"
      ]
     },
     "execution_count": 12,
     "metadata": {},
     "output_type": "execute_result"
    }
   ],
   "source": [
    "#nn_vec.index(min(nn_vec))\n",
    "ws_vec.index(max(ws_vec))"
   ]
  },
  {
   "cell_type": "code",
   "execution_count": null,
   "metadata": {},
   "outputs": [],
   "source": []
  },
  {
   "cell_type": "code",
   "execution_count": null,
   "metadata": {},
   "outputs": [],
   "source": []
  }
 ],
 "metadata": {
  "kernelspec": {
   "display_name": "Python 3",
   "language": "python",
   "name": "python3"
  },
  "language_info": {
   "codemirror_mode": {
    "name": "ipython",
    "version": 3
   },
   "file_extension": ".py",
   "mimetype": "text/x-python",
   "name": "python",
   "nbconvert_exporter": "python",
   "pygments_lexer": "ipython3",
   "version": "3.8.3"
  }
 },
 "nbformat": 4,
 "nbformat_minor": 4
}
