{
 "cells": [
  {
   "cell_type": "code",
   "execution_count": 17,
   "metadata": {},
   "outputs": [
    {
     "name": "stdout",
     "output_type": "stream",
     "text": [
      "f_sr: 44100\n"
     ]
    },
    {
     "data": {
      "image/png": "[encoded data removed]",
      "text/plain": [
       "<Figure size 432x288 with 1 Axes>"
      ]
     },
     "metadata": {
      "needs_background": "light"
     },
     "output_type": "display_data"
    }
   ],
   "source": [
    "import os\n",
    "import wave\n",
    "import numpy as np\n",
    "from scipy.io import wavfile\n",
    "import math\n",
    "import subprocess as sp\n",
    "from scipy.fftpack import fft,fftfreq\n",
    "import matplotlib.pyplot as plt \n",
    "import librosa\n",
    "import pyfftw\n",
    "import libfmp.c2\n",
    "\n",
    "f_sr, data = wavfile.read(\"Bm.wav\")\n",
    "print(\"f_sr:\", f_sr)\n",
    "a = data.T[0]\n",
    "b = data.T[1]\n",
    "\n",
    "plt.figure()\n",
    "plt.grid(True)\n",
    "plt.plot(a)\n",
    "plt.xlabel(\"Time\")\n",
    "plt.ylabel(\"Intensity PCM 16bit\")\n",
    "plt.title(\"Traccia 0\")\n",
    "\n",
    "X = np.fft.fft(a, 4096)\n",
    "Y = np.abs(X) ** 2\n",
    "f_ref = 440"
   ]
  },
  {
   "cell_type": "code",
   "execution_count": 11,
   "metadata": {},
   "outputs": [
    {
     "name": "stdout",
     "output_type": "stream",
     "text": [
      "7612765229251415.0\n",
      "7092978327654155.0\n",
      "5.993115661579247e+16\n",
      "2062133593985006.5\n",
      "2131769020860149.8\n",
      "8737824343277584.0\n",
      "2.14684769767558e+17\n",
      "1.203981949716319e+16\n",
      "3438400874783388.5\n",
      "5713087706140674.0\n",
      "1901336361432349.5\n",
      "9.531736018826072e+16\n",
      "[10  3  4  8  9  1  0  5  7  2 11  6]\n"
     ]
    }
   ],
   "source": [
    "f_pitch = lambda p: 440 * 2 ** ((p - 69) / 12)\n",
    "\n",
    "def f_pitch(p):\n",
    "    return 2 ** ((p - 69) / 12) * 440\n",
    "\n",
    "def pool_pitch(p, Fs, N):\n",
    "    lower = f_pitch(p - 0.5)\n",
    "    upper = f_pitch(p + 0.5)\n",
    "    k = np.arange(N // 2 + 1)\n",
    "    k_freq = k * Fs / N  # F_coef(k, Fs, N)\n",
    "    mask = np.logical_and(lower <= k_freq, k_freq < upper)\n",
    "    return k[mask]\n",
    "\n",
    "def compute_spec_log_freq(Y, Fs, N):\n",
    "    Y_LF = np.zeros((128, Y.shape[0]))\n",
    "    for p in range(128):\n",
    "        k = pool_pitch(p, Fs, N)\n",
    "        Y_LF[p] = Y[k].sum(axis=0)\n",
    "    F_coef_pitch = np.arange(128)    \n",
    "    return Y_LF, F_coef_pitch\n",
    "\n",
    "def compute_chromagram(Y_LF):\n",
    "    C = np.zeros((12, Y_LF.shape[1]))\n",
    "    p = np.arange(128)\n",
    "    for c in range(12):\n",
    "        mask = (p % 12) == c\n",
    "        C[c, :] = Y_LF[mask, :].sum(axis=0)\n",
    "    return C\n",
    "\n",
    "Y_LF, F_coef_pitch = compute_spec_log_freq(Y, f_sr, N)\n",
    "C = compute_chromagram(Y_LF)\n",
    "\n",
    "v = []\n",
    "for i in range(12):\n",
    "    s = 0\n",
    "    for j in range(4096):\n",
    "        s += C[i][j]\n",
    "    v.append(s)\n",
    "\n",
    "for i in range(12):\n",
    "    print(v[i])\n",
    "\n",
    "print(np.argsort(v))"
   ]
  },
  {
   "cell_type": "code",
   "execution_count": 12,
   "metadata": {},
   "outputs": [
    {
     "name": "stdout",
     "output_type": "stream",
     "text": [
      "[10  3  4  8  9  1  0  5  7  2 11  6]\n",
      "[6, 11, 2]\n"
     ]
    }
   ],
   "source": [
    "temp = np.argsort(v)\n",
    "print(temp)\n",
    "bigthree = [temp[11], temp[10], temp[9]]\n",
    "print(bigthree)"
   ]
  },
  {
   "cell_type": "code",
   "execution_count": 13,
   "metadata": {},
   "outputs": [
    {
     "data": {
      "text/plain": [
       "[[0, 4, 7],\n",
       " [1, 5, 8],\n",
       " [2, 6, 9],\n",
       " [3, 7, 10],\n",
       " [4, 8, 11],\n",
       " [5, 9, 0],\n",
       " [6, 10, 1],\n",
       " [7, 11, 2],\n",
       " [8, 0, 3],\n",
       " [9, 1, 4],\n",
       " [10, 2, 5],\n",
       " [11, 3, 6],\n",
       " [0, 3, 7],\n",
       " [1, 4, 8],\n",
       " [2, 5, 9],\n",
       " [3, 6, 10],\n",
       " [4, 7, 11],\n",
       " [5, 8, 0],\n",
       " [6, 9, 1],\n",
       " [7, 10, 2],\n",
       " [8, 11, 3],\n",
       " [9, 0, 4],\n",
       " [10, 1, 5],\n",
       " [11, 2, 6]]"
      ]
     },
     "execution_count": 13,
     "metadata": {},
     "output_type": "execute_result"
    }
   ],
   "source": [
    "CTT = []\n",
    "CTT.append([0, 4, 7])\n",
    "for i in range(1, 12):\n",
    "    a = 0\n",
    "    temp1 = CTT[i-1];\n",
    "    temp2 = []\n",
    "    for j in range(3):\n",
    "        a = (temp1[j] + 1) % 12\n",
    "        temp2.append(a)\n",
    "    CTT.append(temp2)\n",
    "CTT.append([0, 3, 7])\n",
    "for i in range(1,12):\n",
    "    a = 0\n",
    "    temp1 = CTT[i+11];\n",
    "    temp2 = []\n",
    "    for j in range(3):\n",
    "        a = (temp1[j] + 1) % 12\n",
    "        temp2.append(a)\n",
    "    CTT.append(temp2)\n",
    "CTT"
   ]
  },
  {
   "cell_type": "code",
   "execution_count": 14,
   "metadata": {},
   "outputs": [],
   "source": [
    "def check(a, b):\n",
    "    if(len(a) != len(b)):\n",
    "        print(\"I vettori devono avere stessa dimensione!\")\n",
    "        return False\n",
    "    count = 0\n",
    "    for i in range(len(a)):\n",
    "        for j in range(len(b)):\n",
    "            if(a[i] == b[j]):\n",
    "                count += 1\n",
    "        if(count == len(a)):\n",
    "            return True\n",
    "    return False"
   ]
  },
  {
   "cell_type": "code",
   "execution_count": 15,
   "metadata": {},
   "outputs": [],
   "source": [
    "def match(ctt, bt):\n",
    "    for i in range(len(ctt)):\n",
    "        if(check(ctt[i], bt)):\n",
    "            return(i)\n",
    "    return -1"
   ]
  },
  {
   "cell_type": "code",
   "execution_count": 16,
   "metadata": {},
   "outputs": [
    {
     "data": {
      "text/plain": [
       "23"
      ]
     },
     "execution_count": 16,
     "metadata": {},
     "output_type": "execute_result"
    }
   ],
   "source": [
    "match(CTT, bigthree)"
   ]
  },
  {
   "cell_type": "code",
   "execution_count": null,
   "metadata": {},
   "outputs": [],
   "source": []
  },
  {
   "cell_type": "code",
   "execution_count": null,
   "metadata": {},
   "outputs": [],
   "source": []
  }
 ],
 "metadata": {
  "kernelspec": {
   "display_name": "Python 3",
   "language": "python",
   "name": "python3"
  },
  "language_info": {
   "codemirror_mode": {
    "name": "ipython",
    "version": 3
   },
   "file_extension": ".py",
   "mimetype": "text/x-python",
   "name": "python",
   "nbconvert_exporter": "python",
   "pygments_lexer": "ipython3",
   "version": "3.8.3"
  }
 },
 "nbformat": 4,
 "nbformat_minor": 4
}
